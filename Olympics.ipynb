{
 "cells": [
  {
   "cell_type": "code",
   "execution_count": 1,
   "id": "141745b1",
   "metadata": {},
   "outputs": [
    {
     "data": {
      "text/html": [
       "<div>\n",
       "<style scoped>\n",
       "    .dataframe tbody tr th:only-of-type {\n",
       "        vertical-align: middle;\n",
       "    }\n",
       "\n",
       "    .dataframe tbody tr th {\n",
       "        vertical-align: top;\n",
       "    }\n",
       "\n",
       "    .dataframe thead th {\n",
       "        text-align: right;\n",
       "    }\n",
       "</style>\n",
       "<table border=\"1\" class=\"dataframe\">\n",
       "  <thead>\n",
       "    <tr style=\"text-align: right;\">\n",
       "      <th></th>\n",
       "      <th>year</th>\n",
       "      <th>host</th>\n",
       "      <th>winner</th>\n",
       "      <th>runner-up</th>\n",
       "      <th>round</th>\n",
       "      <th>winner_points</th>\n",
       "      <th>runner-up_points</th>\n",
       "    </tr>\n",
       "  </thead>\n",
       "  <tbody>\n",
       "    <tr>\n",
       "      <th>0</th>\n",
       "      <td>1936</td>\n",
       "      <td>Berlin</td>\n",
       "      <td>United States</td>\n",
       "      <td>Canada</td>\n",
       "      <td>final</td>\n",
       "      <td>19</td>\n",
       "      <td>8</td>\n",
       "    </tr>\n",
       "    <tr>\n",
       "      <th>1</th>\n",
       "      <td>1936</td>\n",
       "      <td>Berlin</td>\n",
       "      <td>Mexico</td>\n",
       "      <td>Poland</td>\n",
       "      <td>third place game</td>\n",
       "      <td>26</td>\n",
       "      <td>12</td>\n",
       "    </tr>\n",
       "    <tr>\n",
       "      <th>2</th>\n",
       "      <td>1948</td>\n",
       "      <td>London</td>\n",
       "      <td>United States</td>\n",
       "      <td>France</td>\n",
       "      <td>final</td>\n",
       "      <td>65</td>\n",
       "      <td>21</td>\n",
       "    </tr>\n",
       "    <tr>\n",
       "      <th>3</th>\n",
       "      <td>1948</td>\n",
       "      <td>London</td>\n",
       "      <td>Brazil</td>\n",
       "      <td>Mexico</td>\n",
       "      <td>third place game</td>\n",
       "      <td>52</td>\n",
       "      <td>47</td>\n",
       "    </tr>\n",
       "    <tr>\n",
       "      <th>4</th>\n",
       "      <td>1952</td>\n",
       "      <td>Helsinki</td>\n",
       "      <td>United States</td>\n",
       "      <td>Soviet Union</td>\n",
       "      <td>final</td>\n",
       "      <td>36</td>\n",
       "      <td>25</td>\n",
       "    </tr>\n",
       "  </tbody>\n",
       "</table>\n",
       "</div>"
      ],
      "text/plain": [
       "   year      host         winner     runner-up             round  \\\n",
       "0  1936    Berlin  United States        Canada             final   \n",
       "1  1936    Berlin         Mexico        Poland  third place game   \n",
       "2  1948    London  United States        France             final   \n",
       "3  1948    London         Brazil        Mexico  third place game   \n",
       "4  1952  Helsinki  United States  Soviet Union             final   \n",
       "\n",
       "   winner_points  runner-up_points  \n",
       "0             19                 8  \n",
       "1             26                12  \n",
       "2             65                21  \n",
       "3             52                47  \n",
       "4             36                25  "
      ]
     },
     "execution_count": 1,
     "metadata": {},
     "output_type": "execute_result"
    }
   ],
   "source": [
    "import pandas as pd\n",
    "\n",
    "# Creamos el dataframe (ajustar la ruta según tus directorios)\n",
    "df = pd.read_csv(r\"C:\\Users\\Yago\\Documents\\Basketmática\\Olympics_Julio2024\\basketball_olympic.csv\")\n",
    "df.head()"
   ]
  },
  {
   "cell_type": "markdown",
   "id": "6d9f131d",
   "metadata": {},
   "source": [
    "# Preprocesado de datos"
   ]
  },
  {
   "cell_type": "code",
   "execution_count": 2,
   "id": "f7965646",
   "metadata": {},
   "outputs": [
    {
     "data": {
      "text/plain": [
       "year                0\n",
       "host                0\n",
       "winner              0\n",
       "runner-up           0\n",
       "round               0\n",
       "winner_points       0\n",
       "runner-up_points    0\n",
       "dtype: int64"
      ]
     },
     "execution_count": 2,
     "metadata": {},
     "output_type": "execute_result"
    }
   ],
   "source": [
    "# Primero, comprobamos si existe algún valor nulo dentro de nuestro conjunto de datos\n",
    "df.isnull().sum()"
   ]
  },
  {
   "cell_type": "markdown",
   "id": "e789d51b",
   "metadata": {},
   "source": [
    "Explorando los datos, detectamos una pequeña incongruencia, ya que en Atlanta 1996 'Yugoslavia' figuraba como 'FR Yugoslavia'. Se corrige rápidamente dicho valor"
   ]
  },
  {
   "cell_type": "code",
   "execution_count": 3,
   "id": "1b31b407",
   "metadata": {},
   "outputs": [],
   "source": [
    "df.loc[26, 'runner-up'] = 'Yugoslavia'"
   ]
  },
  {
   "cell_type": "markdown",
   "id": "db03d188",
   "metadata": {},
   "source": [
    "Creamos un dataframe para los partidos correspondientes a finales y otro para los partidos de tercer y cuarto puesto"
   ]
  },
  {
   "cell_type": "code",
   "execution_count": 4,
   "id": "36018d7f",
   "metadata": {},
   "outputs": [
    {
     "data": {
      "text/html": [
       "<div>\n",
       "<style scoped>\n",
       "    .dataframe tbody tr th:only-of-type {\n",
       "        vertical-align: middle;\n",
       "    }\n",
       "\n",
       "    .dataframe tbody tr th {\n",
       "        vertical-align: top;\n",
       "    }\n",
       "\n",
       "    .dataframe thead th {\n",
       "        text-align: right;\n",
       "    }\n",
       "</style>\n",
       "<table border=\"1\" class=\"dataframe\">\n",
       "  <thead>\n",
       "    <tr style=\"text-align: right;\">\n",
       "      <th></th>\n",
       "      <th>year</th>\n",
       "      <th>host</th>\n",
       "      <th>winner</th>\n",
       "      <th>runner-up</th>\n",
       "      <th>round</th>\n",
       "      <th>winner_points</th>\n",
       "      <th>runner-up_points</th>\n",
       "    </tr>\n",
       "  </thead>\n",
       "  <tbody>\n",
       "    <tr>\n",
       "      <th>0</th>\n",
       "      <td>1936</td>\n",
       "      <td>Berlin</td>\n",
       "      <td>United States</td>\n",
       "      <td>Canada</td>\n",
       "      <td>final</td>\n",
       "      <td>19</td>\n",
       "      <td>8</td>\n",
       "    </tr>\n",
       "    <tr>\n",
       "      <th>2</th>\n",
       "      <td>1948</td>\n",
       "      <td>London</td>\n",
       "      <td>United States</td>\n",
       "      <td>France</td>\n",
       "      <td>final</td>\n",
       "      <td>65</td>\n",
       "      <td>21</td>\n",
       "    </tr>\n",
       "    <tr>\n",
       "      <th>4</th>\n",
       "      <td>1952</td>\n",
       "      <td>Helsinki</td>\n",
       "      <td>United States</td>\n",
       "      <td>Soviet Union</td>\n",
       "      <td>final</td>\n",
       "      <td>36</td>\n",
       "      <td>25</td>\n",
       "    </tr>\n",
       "    <tr>\n",
       "      <th>6</th>\n",
       "      <td>1956</td>\n",
       "      <td>Melbourne</td>\n",
       "      <td>United States</td>\n",
       "      <td>Soviet Union</td>\n",
       "      <td>final</td>\n",
       "      <td>89</td>\n",
       "      <td>55</td>\n",
       "    </tr>\n",
       "    <tr>\n",
       "      <th>8</th>\n",
       "      <td>1960</td>\n",
       "      <td>Rome</td>\n",
       "      <td>United States</td>\n",
       "      <td>Soviet Union</td>\n",
       "      <td>final</td>\n",
       "      <td>81</td>\n",
       "      <td>57</td>\n",
       "    </tr>\n",
       "  </tbody>\n",
       "</table>\n",
       "</div>"
      ],
      "text/plain": [
       "   year       host         winner     runner-up  round  winner_points  \\\n",
       "0  1936     Berlin  United States        Canada  final             19   \n",
       "2  1948     London  United States        France  final             65   \n",
       "4  1952   Helsinki  United States  Soviet Union  final             36   \n",
       "6  1956  Melbourne  United States  Soviet Union  final             89   \n",
       "8  1960       Rome  United States  Soviet Union  final             81   \n",
       "\n",
       "   runner-up_points  \n",
       "0                 8  \n",
       "2                21  \n",
       "4                25  \n",
       "6                55  \n",
       "8                57  "
      ]
     },
     "execution_count": 4,
     "metadata": {},
     "output_type": "execute_result"
    }
   ],
   "source": [
    "# Creamos los dataframes para uso posterior\n",
    "df_finals = df[df['round'] == 'final']\n",
    "df_thirdplace = df[df['round'] == 'third place game']\n",
    "df_finals.head()"
   ]
  },
  {
   "cell_type": "markdown",
   "id": "4177e907",
   "metadata": {},
   "source": [
    "# 1. Recuento de medallas"
   ]
  },
  {
   "cell_type": "code",
   "execution_count": 5,
   "id": "00479444",
   "metadata": {},
   "outputs": [
    {
     "name": "stdout",
     "output_type": "stream",
     "text": [
      "United States    16\n",
      "Soviet Union      2\n",
      "Yugoslavia        1\n",
      "Argentina         1\n",
      "Name: winner, dtype: int64\n"
     ]
    }
   ],
   "source": [
    "# 1. Equipos que más veces ha sido oro\n",
    "print(df_finals['winner'].value_counts())"
   ]
  },
  {
   "cell_type": "code",
   "execution_count": 6,
   "id": "61799ce5",
   "metadata": {},
   "outputs": [
    {
     "name": "stdout",
     "output_type": "stream",
     "text": [
      "Soviet Union     4\n",
      "Yugoslavia       4\n",
      "France           3\n",
      "Spain            3\n",
      "Italy            2\n",
      "Canada           1\n",
      "United States    1\n",
      "Croatia          1\n",
      "Serbia           1\n",
      "Name: runner-up, dtype: int64\n"
     ]
    }
   ],
   "source": [
    "# 2. Equipos que más veces ha sido plata\n",
    "print(df_finals['runner-up'].value_counts())"
   ]
  },
  {
   "cell_type": "code",
   "execution_count": 7,
   "id": "7c352dfe",
   "metadata": {},
   "outputs": [
    {
     "name": "stdout",
     "output_type": "stream",
     "text": [
      "Brazil           3\n",
      "Soviet Union     3\n",
      "Lithuania        3\n",
      "Uruguay          2\n",
      "United States    2\n",
      "Mexico           1\n",
      "Cuba             1\n",
      "Yugoslavia       1\n",
      "Argentina        1\n",
      "Russia           1\n",
      "Spain            1\n",
      "Australia        1\n",
      "Name: winner, dtype: int64\n"
     ]
    }
   ],
   "source": [
    "# 3. Equipos que más veces ha sido bronce\n",
    "print(df_thirdplace['winner'].value_counts())"
   ]
  },
  {
   "cell_type": "markdown",
   "id": "f6b81ed9",
   "metadata": {},
   "source": [
    "# 2. Análisis de puntuación en los partidos por medalla"
   ]
  },
  {
   "cell_type": "code",
   "execution_count": 8,
   "id": "3415ebe8",
   "metadata": {},
   "outputs": [
    {
     "name": "stdout",
     "output_type": "stream",
     "text": [
      "Media de puntos equipo ganador: 81.05\n",
      "Media de puntos equipo perdedor: 62.85\n"
     ]
    }
   ],
   "source": [
    "# 1. Media de puntos anotados en la final\n",
    "media_puntos_ganador = df_finals['winner_points'].mean()\n",
    "media_puntos_perdedor = df_finals['runner-up_points'].mean()\n",
    "print(f\"Media de puntos equipo ganador: {media_puntos_ganador:.2f}\")\n",
    "print(f\"Media de puntos equipo perdedor: {media_puntos_perdedor:.2f}\")"
   ]
  },
  {
   "cell_type": "code",
   "execution_count": 9,
   "id": "1be8068a",
   "metadata": {},
   "outputs": [
    {
     "name": "stdout",
     "output_type": "stream",
     "text": [
      "Media de puntos equipo ganador: 80.45\n",
      "Media de puntos equipo perdedor: 69.10\n"
     ]
    }
   ],
   "source": [
    "# 2. Media de puntos anotados en la lucha por el bronce\n",
    "media_puntos_ganador2 = df_thirdplace['winner_points'].mean()\n",
    "media_puntos_perdedor2 = df_thirdplace['runner-up_points'].mean()\n",
    "print(f\"Media de puntos equipo ganador: {media_puntos_ganador2:.2f}\")\n",
    "print(f\"Media de puntos equipo perdedor: {media_puntos_perdedor2:.2f}\")"
   ]
  },
  {
   "cell_type": "code",
   "execution_count": 10,
   "id": "49fea830",
   "metadata": {},
   "outputs": [
    {
     "name": "stdout",
     "output_type": "stream",
     "text": [
      "Total puntos anotados: 225\n",
      "Año: 2008  Sede: Beijing\n",
      "Ganador: United States\n",
      "Perdedor: Spain\n"
     ]
    }
   ],
   "source": [
    "# 3. Partido más anotador luchando por medalla\n",
    "df['total_points'] = df['winner_points'] + df['runner-up_points']\n",
    "max_points_row = df.loc[df['total_points'].idxmax()]\n",
    "print(f\"Total puntos anotados: {max_points_row['total_points']}\")\n",
    "print(f\"Año: {max_points_row['year']}  Sede: {max_points_row['host']}\")\n",
    "print(f\"Ganador: {max_points_row['winner']}\")\n",
    "print(f\"Perdedor: {max_points_row['runner-up']}\")"
   ]
  },
  {
   "cell_type": "code",
   "execution_count": 11,
   "id": "ab7e7ae7",
   "metadata": {},
   "outputs": [
    {
     "name": "stdout",
     "output_type": "stream",
     "text": [
      "Total puntos anotados: 27\n",
      "Año: 1936  Sede: Berlin\n",
      "Ganador: United States\n",
      "Perdedor: Canada\n"
     ]
    }
   ],
   "source": [
    "# 4. Partido menos anotador luchando por medalla\n",
    "min_points_row = df.loc[df['total_points'].idxmin()]\n",
    "print(f\"Total puntos anotados: {min_points_row['total_points']}\")\n",
    "print(f\"Año: {min_points_row['year']}  Sede: {min_points_row['host']}\")\n",
    "print(f\"Ganador: {min_points_row['winner']}\")\n",
    "print(f\"Perdedor: {min_points_row['runner-up']}\")"
   ]
  },
  {
   "cell_type": "markdown",
   "id": "bf6c3eb3",
   "metadata": {},
   "source": [
    "# 3. Anfitriones con medalla"
   ]
  },
  {
   "cell_type": "code",
   "execution_count": 12,
   "id": "ef97ee69",
   "metadata": {},
   "outputs": [
    {
     "name": "stdout",
     "output_type": "stream",
     "text": [
      "Oro: United States | Ciudad: Los Angeles | Año: 1984\n",
      "\n",
      "\n",
      "Oro: United States | Ciudad: Atlanta | Año: 1996\n",
      "\n",
      "\n",
      "Bronce: Soviet Union | Ciudad: Moscow | Año: 1980\n"
     ]
    }
   ],
   "source": [
    "# Creamos un diccionario con la lista de sedes y la selección a la que corresponde\n",
    "lista_sedes = {'Berlín': 'Germany',\n",
    "              'London': 'United Kingdom',\n",
    "              'Helsinki': 'Finland',\n",
    "              'Melbourne': 'Australia',\n",
    "              'Rome': 'Italy',\n",
    "              'Tokyo': 'Japan',\n",
    "              'Mexico City': 'Mexico',\n",
    "              'Munich': 'Germany',\n",
    "              'Montreal': 'Canada',\n",
    "              'Moscow': 'Soviet Union',\n",
    "              'Los Angeles': 'United States',\n",
    "              'Seoul': 'South Korea',\n",
    "              'Barcelona': 'Spain',\n",
    "              'Atlanta': 'United States',\n",
    "              'Sydney': 'Australia',\n",
    "              'Athens': 'Greece',\n",
    "              'Beijing': 'China',\n",
    "              'London': 'United Kingdom',\n",
    "              'Rio de Janeiro': 'Brazil',\n",
    "              'Tokyo': 'Japan'}\n",
    "\n",
    "for index, row in df_finals.iterrows():\n",
    "    # Obtenemos la ciudad donde se celebró los JJOO y el ganador para cada edición\n",
    "    city, country = row['host'], row['winner']\n",
    "    # Revisamos si la sede coincide con el mapeo de la selección ganadora\n",
    "    if city in lista_sedes and lista_sedes[city] == country:\n",
    "        print(f\"Oro: {row['winner']} | Ciudad: {city} | Año: {row['year']}\")\n",
    "        print('\\n')\n",
    "    # O si coincide con el subcampeón de dicha edición\n",
    "    country = row['runner-up']\n",
    "    if city in lista_sedes and lista_sedes[city] == country:\n",
    "        print(f\"Plata: {row['runner-up']} | Ciudad: {city} | Año: {row['year']}\")\n",
    "        print('==========')\n",
    "\n",
    "for index, row in df_thirdplace.iterrows():\n",
    "    # Repetimos el proceso anterior con los partidos de tercer y cuarto puesto, pero solo es necesario revisar el ganador (bronce)\n",
    "    city, country = row['host'], row['winner']\n",
    "    if city in lista_sedes and lista_sedes[city] == country:\n",
    "        print(f\"Bronce: {row['winner']} | Ciudad: {city} | Año: {row['year']}\")"
   ]
  },
  {
   "cell_type": "code",
   "execution_count": 19,
   "id": "48a79abc",
   "metadata": {},
   "outputs": [],
   "source": [
    "# Guardo el dataframe actualizado en formato Excel para importarlos en Tableau y crear las visualizaciones (ajustar la ruta según tus directorios)\n",
    "df.to_excel(r\"C:\\Users\\Yago\\Documents\\Basketmática\\Olympics_Julio2024\\basketball_olympic_cleaned.xlsx\")"
   ]
  }
 ],
 "metadata": {
  "kernelspec": {
   "display_name": "Python 3 (ipykernel)",
   "language": "python",
   "name": "python3"
  },
  "language_info": {
   "codemirror_mode": {
    "name": "ipython",
    "version": 3
   },
   "file_extension": ".py",
   "mimetype": "text/x-python",
   "name": "python",
   "nbconvert_exporter": "python",
   "pygments_lexer": "ipython3",
   "version": "3.10.9"
  }
 },
 "nbformat": 4,
 "nbformat_minor": 5
}
